{
 "cells": [
  {
   "cell_type": "markdown",
   "id": "d32eedce-dbfc-4a1e-9c52-eaa644b3a8d6",
   "metadata": {
    "jp-MarkdownHeadingCollapsed": true
   },
   "source": [
    "## Setup (please don't run; will go OOM if run twice without resetting the kernel)"
   ]
  },
  {
   "cell_type": "code",
   "execution_count": 1,
   "id": "3d975309-5429-4f33-a48f-f308102a033b",
   "metadata": {},
   "outputs": [
    {
     "data": {
      "application/vnd.jupyter.widget-view+json": {
       "model_id": "3cb1db5e7ee54f23ae559dfa91040e4b",
       "version_major": 2,
       "version_minor": 0
      },
      "text/plain": [
       "tokenizer_config.json:   0%|          | 0.00/7.30k [00:00<?, ?B/s]"
      ]
     },
     "metadata": {},
     "output_type": "display_data"
    },
    {
     "data": {
      "application/vnd.jupyter.widget-view+json": {
       "model_id": "204d1f0b0dcf45f4aa21e7e6c558ac3e",
       "version_major": 2,
       "version_minor": 0
      },
      "text/plain": [
       "vocab.json:   0%|          | 0.00/2.78M [00:00<?, ?B/s]"
      ]
     },
     "metadata": {},
     "output_type": "display_data"
    },
    {
     "data": {
      "application/vnd.jupyter.widget-view+json": {
       "model_id": "e7929e24a9cd4dd7b73d8f2ae95cfd06",
       "version_major": 2,
       "version_minor": 0
      },
      "text/plain": [
       "merges.txt:   0%|          | 0.00/1.67M [00:00<?, ?B/s]"
      ]
     },
     "metadata": {},
     "output_type": "display_data"
    },
    {
     "data": {
      "application/vnd.jupyter.widget-view+json": {
       "model_id": "dd5c226905474d9598d2d04c2a741f58",
       "version_major": 2,
       "version_minor": 0
      },
      "text/plain": [
       "tokenizer.json:   0%|          | 0.00/7.03M [00:00<?, ?B/s]"
      ]
     },
     "metadata": {},
     "output_type": "display_data"
    },
    {
     "data": {
      "application/vnd.jupyter.widget-view+json": {
       "model_id": "6dde71d79a364807b2bb6f82129b8c8e",
       "version_major": 2,
       "version_minor": 0
      },
      "text/plain": [
       "config.json:   0%|          | 0.00/663 [00:00<?, ?B/s]"
      ]
     },
     "metadata": {},
     "output_type": "display_data"
    },
    {
     "data": {
      "application/vnd.jupyter.widget-view+json": {
       "model_id": "d60be452729a4b76a1987cbe90de0b4e",
       "version_major": 2,
       "version_minor": 0
      },
      "text/plain": [
       "model.safetensors.index.json:   0%|          | 0.00/27.8k [00:00<?, ?B/s]"
      ]
     },
     "metadata": {},
     "output_type": "display_data"
    },
    {
     "data": {
      "application/vnd.jupyter.widget-view+json": {
       "model_id": "f8b1ab07a023470695ea4d393af9f9d9",
       "version_major": 2,
       "version_minor": 0
      },
      "text/plain": [
       "Downloading shards:   0%|          | 0/4 [00:00<?, ?it/s]"
      ]
     },
     "metadata": {},
     "output_type": "display_data"
    },
    {
     "data": {
      "application/vnd.jupyter.widget-view+json": {
       "model_id": "0e875966dd07496693fea791c36c9316",
       "version_major": 2,
       "version_minor": 0
      },
      "text/plain": [
       "model-00001-of-00004.safetensors:   0%|          | 0.00/3.95G [00:00<?, ?B/s]"
      ]
     },
     "metadata": {},
     "output_type": "display_data"
    },
    {
     "data": {
      "application/vnd.jupyter.widget-view+json": {
       "model_id": "20d710ca78824deab38560155a6adaf7",
       "version_major": 2,
       "version_minor": 0
      },
      "text/plain": [
       "model-00002-of-00004.safetensors:   0%|          | 0.00/3.86G [00:00<?, ?B/s]"
      ]
     },
     "metadata": {},
     "output_type": "display_data"
    },
    {
     "data": {
      "application/vnd.jupyter.widget-view+json": {
       "model_id": "ceaccf2bb91a4f9fb5bd72f766d35c1c",
       "version_major": 2,
       "version_minor": 0
      },
      "text/plain": [
       "model-00003-of-00004.safetensors:   0%|          | 0.00/3.86G [00:00<?, ?B/s]"
      ]
     },
     "metadata": {},
     "output_type": "display_data"
    },
    {
     "data": {
      "application/vnd.jupyter.widget-view+json": {
       "model_id": "da1d631165ba4a63aa235b5f0cac2386",
       "version_major": 2,
       "version_minor": 0
      },
      "text/plain": [
       "model-00004-of-00004.safetensors:   0%|          | 0.00/3.56G [00:00<?, ?B/s]"
      ]
     },
     "metadata": {},
     "output_type": "display_data"
    },
    {
     "name": "stderr",
     "output_type": "stream",
     "text": [
      "Sliding Window Attention is enabled but not implemented for `sdpa`; unexpected results may be encountered.\n"
     ]
    },
    {
     "data": {
      "application/vnd.jupyter.widget-view+json": {
       "model_id": "20ce448ead434fcdb5a53b4ba646110d",
       "version_major": 2,
       "version_minor": 0
      },
      "text/plain": [
       "Loading checkpoint shards:   0%|          | 0/4 [00:00<?, ?it/s]"
      ]
     },
     "metadata": {},
     "output_type": "display_data"
    },
    {
     "data": {
      "application/vnd.jupyter.widget-view+json": {
       "model_id": "30ba8109bd894a00a2d63478adc23f82",
       "version_major": 2,
       "version_minor": 0
      },
      "text/plain": [
       "generation_config.json:   0%|          | 0.00/243 [00:00<?, ?B/s]"
      ]
     },
     "metadata": {},
     "output_type": "display_data"
    }
   ],
   "source": [
    "# Imports\n",
    "import logging\n",
    "from cacher import CachedPromptModel\n",
    "from logging_config import setup_logging\n",
    "from config import ExperimentConfig\n",
    "from llm_wrapper import LLMWrapper\n",
    "from metrics import MetricsCalculator\n",
    "from qa_manager import QAManager\n",
    "import pprint\n",
    "\n",
    "\n",
    "# Load data\n",
    "logger = logging.getLogger(__name__)\n",
    "config = ExperimentConfig.from_file(\"config.yaml\")\n",
    "config.post_hoc_temperature = 5.\n",
    "llm_wrapper = LLMWrapper(model_name=config.model_name)\n",
    "llm_wrapper.model = CachedPromptModel(llm_wrapper.model, device=\"cuda\")\n",
    "metric_calculator = MetricsCalculator(config=config, llm_wrapper=llm_wrapper)\n",
    "qa_manager_almostdirac = QAManager(\"edgecase_files/edgecase_majority_almostdirac.json\")\n",
    "qa_manager_dirac = QAManager(\"edgecase_files/edgecase_wording_dirac.json\")\n",
    "qa_manager_uniform = QAManager(\"edgecase_files/edgecase_idk_cases.json\")\n",
    "\n",
    "\n",
    "# Precompute reference answers\n",
    "for qa_manager in [qa_manager_almostdirac, qa_manager_dirac, qa_manager_uniform]:\n",
    "    qa_manager.cached_task = []\n",
    "    for question_idx in range(5):\n",
    "        question = qa_manager.get_question_text(question_idx)\n",
    "        answers = qa_manager.get_answers(question_idx)\n",
    "        summaries = qa_manager.get_summaries(question_idx)\n",
    "        best_summary = summaries.get(\"pct\", None) or summaries.get(\"good\", None)\n",
    "        precompute = metric_calculator.precompute_masked_out_infilling_with_answers(\n",
    "                question=question,\n",
    "                answers=answers\n",
    "        )\n",
    "        qa_manager.cached_task.append([question, answers, best_summary, precompute])\n",
    "\n",
    "\n",
    "# Calculate and print how good a user provided summary is\n",
    "def calc_kl_div(summary, qa_manager, question_idx=0):\n",
    "    infilling_results = metric_calculator.calculate_masked_out_infilling_for_summary(\n",
    "        question= qa_manager.cached_task[question_idx][0],\n",
    "        summary=summary,\n",
    "        summary_label=\"\",\n",
    "        precomputed_with_answers=qa_manager.cached_task[question_idx][3]\n",
    "    )\n",
    "\n",
    "    print(f\"Our metric scores your summary as {infilling_results[\"KL\"]:.3f} (lower = better).\\n\\n\")\n",
    "    print(\"Here's your score broken down into the distance to each sample of the LLM distribution:\\n\")\n",
    "    all_res = {}\n",
    "    n_tokens = 0\n",
    "    for answer in infilling_results[\"detailed_logging\"][\"answers\"]:\n",
    "        answer_idx = answer[\"masked_words\"][\"answer_id\"]\n",
    "        if answer_idx not in all_res:\n",
    "            all_res[answer_idx] = [0., answer[\"answer_text\"]]\n",
    "        all_res[answer_idx][0] += answer[\"masked_words\"][\"KL_div_sum\"]\n",
    "        n_tokens += len(answer[\"masked_words\"][\"KL_div_per_token\"])\n",
    "\n",
    "    for key, value in all_res.items():\n",
    "        print(f\"Distance {(value[0] / n_tokens):.3f} for answer: {value[1]}\")\n",
    "\n",
    "    return infilling_results"
   ]
  },
  {
   "cell_type": "markdown",
   "id": "316c8faa-96d2-4b44-97f1-2550552077eb",
   "metadata": {},
   "source": [
    "## Questions with one majority and some minority answers\n",
    "\n",
    "Feel free to edit the `custom_summary`, then run the cell, and see if you can beat the reference score (lower = better). If you feel like our metric gave your summary a better score than the reference summary though it should not be that way, send me (Michael Kirchhof) a Slack with a screenshot!\n",
    "\n",
    "Feel free to edit all stuff, we've got the original state backed up in the git :) "
   ]
  },
  {
   "cell_type": "code",
   "execution_count": 2,
   "id": "4306ddfd-6ec8-41e1-80d5-83381dc8b98e",
   "metadata": {},
   "outputs": [
    {
     "name": "stdout",
     "output_type": "stream",
     "text": [
      "Our metric scores your summary as 0.032 (lower = better).\n",
      "\n",
      "\n",
      "Here's your score broken down into the distance to each sample of the LLM distribution:\n",
      "\n",
      "Distance 0.002 for answer: Henri Becquerel won the first Nobel Prize in Physics in 1903.\n",
      "Distance 0.004 for answer: The first Nobel Prize in Physics was awarded to Wilhelm Conrad Röntgen in 1901 for his discovery of X-rays.\n",
      "Distance 0.002 for answer: Henri Becquerel won the first Nobel Prize in Physics in 1903.\n",
      "Distance 0.006 for answer: Albert Einstein did not receive the first Nobel Prize in Physics. The first Nobel Prize in Physics was awarded to Wilhelm Conrad Röntgen in 1901 for his discovery of X-rays.\n",
      "Distance 0.002 for answer: Henri Becquerel received the first Nobel Prize in Physics in 1903.\n",
      "Distance 0.008 for answer: Hendrik Antoon Lorentz and Pieter Zeeman received the first Nobel Prize in Physics in 1902 for their work on the effect of magnetic fields on radiation emissions, commonly known as the Zeeman effect.\n",
      "Distance 0.002 for answer: Henri Becquerel received the first Nobel Prize in Physics in 1903.\n",
      "Distance 0.002 for answer: Henri Becquerel received the first Nobel Prize in Physics in 1903.\n",
      "Distance 0.002 for answer: Henri Becquerel received the first Nobel Prize in Physics in 1903.\n",
      "Distance 0.002 for answer: Henri Becquerel received the first Nobel Prize in Physics in 1903.\n"
     ]
    }
   ],
   "source": [
    "# Reference summary: I'm 70% sure that Henri Becquerel won the first Nobel Prize in Physics in 1903, but it could also have been Wilhelm Conrad Röntgen in 1901 (20% sure), or Hendrik Antoon Lorentz and Pieter Zeeman in 1902 (10% sure).\n",
    "# Reference score: 0.032\n",
    "\n",
    "custom_summary = \"I'm 70% sure that Henri Becquerel won the first Nobel Prize in Physics in 1903, but it could also have been Wilhelm Conrad Röntgen in 1901 (20% sure), or Hendrik Antoon Lorentz and Pieter Zeeman in 1902 (10% sure).\"\n",
    "res = calc_kl_div(custom_summary, qa_manager_almostdirac, question_idx=0)"
   ]
  },
  {
   "cell_type": "code",
   "execution_count": 4,
   "id": "889257db-6fc5-4f76-8a82-16a6ddcd083c",
   "metadata": {},
   "outputs": [
    {
     "name": "stdout",
     "output_type": "stream",
     "text": [
      "Our metric scores your summary as 0.031 (lower = better).\n",
      "\n",
      "\n",
      "Here's your score broken down into the distance to each sample of the LLM distribution:\n",
      "\n",
      "Distance 0.002 for answer: The first African American air force unit, the 99th Pursuit Squadron, trained at Tuskegee, Alabama.\n",
      "Distance 0.003 for answer: The first African American air force unit, the 99th Pursuit Squadron, trained at Selfridge Field in Romeo, Michigan.\n",
      "Distance 0.003 for answer: The first African American air force unit, the 99th Pursuit Squadron (later part of the famed Tuskegee Airmen), trained at Tuskegee Army Air Field in Alabama.\n",
      "Distance 0.004 for answer: The first African American air force unit, the 99th Pursuit Squadron (later part of the Tuskegee Airmen), trained at Moton Field and Tuskegee Army Air Field in Tuskegee, Alabama.\n",
      "Distance 0.003 for answer: The first African American air force unit, the 99th Pursuit Squadron (later part of the famed Tuskegee Airmen), trained at Tuskegee Army Air Field in Alabama.\n",
      "Distance 0.002 for answer: The first African American air force unit, the 99th Pursuit Squadron, trained at Tuskegee Army Air Field in Alabama.\n",
      "Distance 0.003 for answer: The first African American air force unit, the 99th Pursuit Squadron (later known as the Tuskegee Airmen), trained at Tuskegee Army Air Field in Alabama.\n",
      "Distance 0.002 for answer: The first African American air force unit, the 99th Pursuit Squadron, trained at Selfridge Field in Michigan.\n",
      "Distance 0.004 for answer: The first African American air units, known as the Tuskegee Airmen, trained at Moton Field and later at Tuskegee Army Air Field in Tuskegee, Alabama.\n",
      "Distance 0.004 for answer: The first African American Air Force unit, the 99th Pursuit Squadron (later re-designated as fighter squadron), trained at Selfridge Field in Michigan.\n"
     ]
    }
   ],
   "source": [
    "# Reference summary: I'm 70% sure that the first African American Air Force unit, the 99th Pursuit Squadron (which later became part of the Tuskegee Airmen), trained at the Tuskegee Army Air Field in Tuskegee, Alabama, but it could also have been the Selfridge Field in Michigan (30% sure).\n",
    "# Reference score: 0.031\n",
    "\n",
    "custom_summary = \"I'm 70% sure that the first African American Air Force unit, the 99th Pursuit Squadron (which later became part of the Tuskegee Airmen), trained at the Tuskegee Army Air Field in Tuskegee, Alabama, but it could also have been the Selfridge Field in Michigan (30% sure).\"\n",
    "res = calc_kl_div(custom_summary, qa_manager_almostdirac, question_idx=2)"
   ]
  },
  {
   "cell_type": "code",
   "execution_count": 5,
   "id": "909ada58-bf2d-4456-838a-b558a16b88f2",
   "metadata": {},
   "outputs": [
    {
     "name": "stdout",
     "output_type": "stream",
     "text": [
      "Our metric scores your summary as 0.045 (lower = better).\n",
      "\n",
      "\n",
      "Here's your score broken down into the distance to each sample of the LLM distribution:\n",
      "\n",
      "Distance 0.003 for answer: Sadio Mane was named African Footballer of the Year in 2014.\n",
      "Distance 0.002 for answer: Sadio Mané won the African Footballer of the Year award in 2014.\n",
      "Distance 0.003 for answer: Sadio Mané was named African Footballer of the Year in 2014.\n",
      "Distance 0.003 for answer: Sadio Mané was named African Footballer of the Year in 2014.\n",
      "Distance 0.012 for answer: Sergio Aguero was named African Footballer of the Year in 2014. However, it's important to note that this award is typically given to players based on their performance in European leagues, and Aguero plays for and is Argentine, not African. There might be a misunderstanding here. If you're looking for an African winner, you may want to specify a different year or check for the correct athlete.\n",
      "Distance 0.003 for answer: Sadio Mané was named African Footballer of the Year in 2014.\n",
      "Distance 0.011 for answer: Sergio Agüero was named African Footballer of the Year in 2014. However, there seems to be a mix-up as Sergio Agüero is Argentine. The correct winner for 2014 was Ahmed Musa of Nigeria.\n",
      "Distance 0.003 for answer: Sadio Mané was named African Footballer of the Year in 2014.\n",
      "Distance 0.004 for answer: Serge Aurier was named African Footballer of the Year in 2014.\n",
      "Distance 0.003 for answer: Sadio Mané was named African Footballer of the Year in 2014.\n"
     ]
    }
   ],
   "source": [
    "# Reference summary: I'm 70% sure that Sadio Mané won the African Footballer of the Year award in 2014, but it could also be Sergio Agüero (20% sure) or Serge Aurier (10% sure).\n",
    "# Reference score: 0.045\n",
    "\n",
    "custom_summary = \"I'm 70% sure that Sadio Mané won the African Footballer of the Year award in 2014, but it could also be Sergio Agüero (20% sure) or Serge Aurier (10% sure).\"\n",
    "res = calc_kl_div(custom_summary, qa_manager_almostdirac, question_idx=3)"
   ]
  },
  {
   "cell_type": "code",
   "execution_count": 6,
   "id": "ba3da07f-cc09-46e6-b8b5-4fef25970970",
   "metadata": {},
   "outputs": [
    {
     "name": "stdout",
     "output_type": "stream",
     "text": [
      "Our metric scores your summary as 0.040 (lower = better).\n",
      "\n",
      "\n",
      "Here's your score broken down into the distance to each sample of the LLM distribution:\n",
      "\n",
      "Distance 0.004 for answer: Yes, Thomas Eric Duncan died from Ebola in the United States in 2014. He was the first person to contract Ebola in the U.S.\n",
      "Distance 0.004 for answer: Yes, Thomas Eric Duncan died from Ebola in the United States in 2014. He was the first person diagnosed with Ebola in the country.\n",
      "Distance 0.005 for answer: No, no one died from Ebola in the United States during past outbreaks. The infections were managed, and all patients recovered or received treatment that prevented death.\n",
      "Distance 0.003 for answer: Yes, Thomas Eric Duncan died from Ebola in the U.S. He was the first person diagnosed with Ebola in the country.\n",
      "Distance 0.004 for answer: Yes, Patrickамريكا Reed died from Ebola in the US in 2014. This was the most notable case in the U.S. during the West African Ebola outbreak.\n",
      "Distance 0.004 for answer: Yes, Thomas Eric Duncan died from Ebola in the United States in 2014. He was the first person diagnosed with Ebola in the country.\n",
      "Distance 0.003 for answer: Yes, several people died from Ebola in the U.S., including Thomas Eric Duncan and Patrick Sawyer.\n",
      "Distance 0.004 for answer: Yes, Thomas Eric Duncan died from Ebola in the U.S. in 2014. This was the first case of Ebola diagnosed in the country.\n",
      "Distance 0.004 for answer: Yes, Thomas Eric Duncan died from Ebola in the United States in 2014. This was the first imported case of Ebola to reach the country.\n",
      "Distance 0.005 for answer: Yes, Thomas Eric Duncan died from Ebola in the U.S. in 2014. This was the first documented case of Ebola diagnosed in the country.\n"
     ]
    }
   ],
   "source": [
    "# Reference summary: I'm 80% sure that Thomas Eric Duncan died from Ebola in the United States during the 2014 West African Ebola outbreak, but it could also have been Patrick Sawyer (10% sure) or Patrickамريكا Reed (10% sure).\n",
    "# Reference score: 0.040\n",
    "\n",
    "custom_summary = \"I'm 80% sure that Thomas Eric Duncan died from Ebola in the United States during the 2014 West African Ebola outbreak, but it could also have been Patrick Sawyer (10% sure) or Patrickамريكا Reed (10% sure).\"\n",
    "res = calc_kl_div(custom_summary, qa_manager_almostdirac, question_idx=4)"
   ]
  },
  {
   "cell_type": "markdown",
   "id": "8754b59a-e416-4191-9b01-e90e3e240022",
   "metadata": {},
   "source": [
    "## Questions where the model always gives the same answer (for testing sensibility to wording etc)"
   ]
  },
  {
   "cell_type": "code",
   "execution_count": 7,
   "id": "2cf15099-1cd0-4123-892b-259f903b4274",
   "metadata": {},
   "outputs": [
    {
     "name": "stdout",
     "output_type": "stream",
     "text": [
      "Our metric scores your summary as 0.030 (lower = better).\n",
      "\n",
      "\n",
      "Here's your score broken down into the distance to each sample of the LLM distribution:\n",
      "\n",
      "Distance 0.003 for answer: To protect individuals from retaliation when reporting illegal or harmful activities within an organization.\n",
      "Distance 0.003 for answer: To protect individuals who report illegal or unethical activities within organizations from retaliation.\n",
      "Distance 0.003 for answer: To protect employees who report unlawful or unethical activities in the workplace.\n",
      "Distance 0.003 for answer: To protect employees who report illegal or unethical activities within organizations.\n",
      "Distance 0.003 for answer: To protect individuals who report illegal or unethical activities within organizations from retaliation.\n",
      "Distance 0.003 for answer: To protect employees who report illegal or unethical activities within organizations.\n",
      "Distance 0.004 for answer: To protect government employees from retaliation when reporting illegal or harmful activities.\n",
      "Distance 0.003 for answer: To protect individuals who report illegal or unethical activities within organizations from retaliation.\n",
      "Distance 0.003 for answer: To protect employees who report illegal or unethical activities within their organizations.\n",
      "Distance 0.003 for answer: To protect employees who report illegal or harmful activities within organizations.\n"
     ]
    }
   ],
   "source": [
    "# Reference summary: To protect individuals, particularly employees, who report illegal, unethical, or harmful activities within organisations from retaliation.\n",
    "# Reference score: 0.030\n",
    "\n",
    "custom_summary = \"To protect individuals, particularly employees, who report illegal, unethical, or harmful activities within organisations from retaliation.\"\n",
    "res = calc_kl_div(custom_summary, qa_manager_dirac, question_idx=0)"
   ]
  },
  {
   "cell_type": "code",
   "execution_count": 8,
   "id": "48c95917-f940-49d7-b836-50626af3898d",
   "metadata": {},
   "outputs": [
    {
     "name": "stdout",
     "output_type": "stream",
     "text": [
      "Our metric scores your summary as 0.025 (lower = better).\n",
      "\n",
      "\n",
      "Here's your score broken down into the distance to each sample of the LLM distribution:\n",
      "\n",
      "Distance 0.002 for answer: Hawaii became a state on August 21, 1959. It was admitted as the 50th state due to its strategic location and desire for full U.S. representation in Congress.\n",
      "Distance 0.002 for answer: Hawaii became a state on August 21, 1959. It was accepted into the Union due to its strategic location, rich resources, and support from U.S. businesses and political interests.\n",
      "Distance 0.004 for answer: Hawaii became a state on August 21, 1959. It became a state primarily because Congress approved the admission following a vote by Hawaiian voters supporting statehood in 1954, and Hawaii was officially admitted into the Union in 1959.\n",
      "Distance 0.003 for answer: Hawaii became a state on August 21, 1959. It was admitted as the 50th state due to its strategic location and economic potential, following a period of U.S. influence and the overthrow of the Hawaiian monarchy in 1893.\n",
      "Distance 0.002 for answer: Hawaii became a state on August 21, 1959. It was admitted as the 50th state due to its strategic location and resources, which were seen as valuable for national defense.\n",
      "Distance 0.003 for answer: Hawaii became the 50th state on August 21, 1959. It was admitted to the Union as a result of the Hawaii Statehood Act, which was signed into law by President Dwight D. Eisenhower.\n",
      "Distance 0.001 for answer: Hawaii became a state on August 21, 1959. It was admitted to the Union as the 50th state due to its strategic importance and rich resources.\n",
      "Distance 0.002 for answer: Hawaii became a state on August 21, 1959. It was admitted to the Union as the 50th state due to its strategic location and natural resources, as well as economic benefits for the United States.\n",
      "Distance 0.003 for answer: Hawaii became a state on August 21, 1959. It became a state because Congress approved the admission following a referendum in Hawaii, and President Eisenhower signed the Hawaii Statehood Bill.\n",
      "Distance 0.002 for answer: Hawaii became a state on August 21, 1959. It was admitted as the 50th state due to its strategic location and resources, which were valuable for the United States.\n"
     ]
    }
   ],
   "source": [
    "# Reference summary: Hawaii became a U.S. state on August 21, 1959, making it the 50th state in the Union. Its admission followed a referendum in which Hawaiian voters overwhelmingly supported statehood. The primary reasons for Hawaii's statehood included its strategic and geographic location in the Pacific, its economic importance, and its rich natural resources.\n",
    "# Reference score: 0.025\n",
    "\n",
    "custom_summary = \"Hawaii became a U.S. state on August 21, 1959, making it the 50th state in the Union. Its admission followed a referendum in which Hawaiian voters overwhelmingly supported statehood. The primary reasons for Hawaii's statehood included its strategic and geographic location in the Pacific, its economic importance, and its rich natural resources.\"\n",
    "res = calc_kl_div(custom_summary, qa_manager_dirac, question_idx=1)"
   ]
  },
  {
   "cell_type": "code",
   "execution_count": 9,
   "id": "1dcf185a-656d-4533-82df-0b970a91b9b1",
   "metadata": {},
   "outputs": [
    {
     "name": "stdout",
     "output_type": "stream",
     "text": [
      "Our metric scores your summary as 0.032 (lower = better).\n",
      "\n",
      "\n",
      "Here's your score broken down into the distance to each sample of the LLM distribution:\n",
      "\n",
      "Distance 0.005 for answer: Adobe Flash Player is no longer updated, and its end of life was in December 2020. For modern web experiences, consider using HTML5/CSS3 or other contemporary technologies.\n",
      "Distance 0.003 for answer: Adobe Flash Player has been discontinued as of December 31, 2020. For security reasons, it's recommended to use alternative technologies like HTML5.\n",
      "Distance 0.003 for answer: Adobe Flash Player has been discontinued as of December 31, 2020, so there are no new versions available. Consider using an alternative technology like HTML5 for your web applications.\n",
      "Distance 0.004 for answer: Adobe Flash Player has been discontinued as of December 31, 2020. For current web content needs, consider using modern alternatives like HTML5 or other technologies supported by major browsers.\n",
      "Distance 0.003 for answer: Adobe has ended support for Flash Player, so there are no new versions being developed. Consider migrating to alternative technologies like HTML5 for your needs.\n",
      "Distance 0.003 for answer: As of 2023, Adobe Flash Player has been discontinued. The recommended alternative is using HTML5 for web content.\n",
      "Distance 0.002 for answer: Adobe has discontinued Flash Player, so there are no current versions. Consider using modern technologies for your needs.\n",
      "Distance 0.004 for answer: Adobe Flash Player development has been discontinued as of December 31, 2020. For security reasons, it's recommended to use alternative technologies or plugins.\n",
      "Distance 0.003 for answer: Adobe has discontinued Flash Player, so there are no new versions being released. Consider using alternative technologies like HTML5 for web animations and multimedia.\n",
      "Distance 0.002 for answer: Adobe has discontinued Flash Player, so there are no new versions being released. As of December 31, 2020, Adobe announced the end of support for Flash Player.\n"
     ]
    }
   ],
   "source": [
    "# Reference summary: Adobe Flash Player was discontinued on December 31, 2020, and no new updates or versions are available. Consider using modern alternatives like HTML5 for web content and functionality.\n",
    "# Reference score: 0.032\n",
    "\n",
    "custom_summary = \"Adobe Flash Player was discontinued on December 31, 2020, and no new updates or versions are available. Consider using modern alternatives like HTML5 for web content and functionality.\"\n",
    "res = calc_kl_div(custom_summary, qa_manager_dirac, question_idx=2)"
   ]
  },
  {
   "cell_type": "code",
   "execution_count": 10,
   "id": "42ca5a66-9459-403e-85af-91378e045312",
   "metadata": {},
   "outputs": [
    {
     "name": "stdout",
     "output_type": "stream",
     "text": [
      "Our metric scores your summary as 0.032 (lower = better).\n",
      "\n",
      "\n",
      "Here's your score broken down into the distance to each sample of the LLM distribution:\n",
      "\n",
      "Distance 0.002 for answer: The first step in the evolution of the eye is thought to be the development of light-sensitive cells.\n",
      "Distance 0.002 for answer: The first step in the evolution of the eye is thought to be the development of light-sensitive cells.\n",
      "Distance 0.005 for answer: The first step in the evolution of the eye is thought to be the development of photoreceptive cells that can sense light from dark.\n",
      "Distance 0.002 for answer: The first step in the evolution of the eye is thought to be the development of light-sensitive spots.\n",
      "Distance 0.006 for answer: The first step in the evolution of the eye is thought to be the development of light-sensitive spots from simple photoreceptive cells.\n",
      "Distance 0.002 for answer: The first step in the evolution of the eye is thought to be the development of light-sensitive spots.\n",
      "Distance 0.002 for answer: The first step in the evolution of the eye is thought to be the development of light-sensitive spots.\n",
      "Distance 0.003 for answer: The first step in the evolution of the eye is thought to be the development of light-sensitive spots, which can detect light from dark.\n",
      "Distance 0.005 for answer: The first step in the evolution of the eye was likely the development of photoreceptor cells that could detect light changes.\n",
      "Distance 0.005 for answer: The first step in the evolution of the eye is the development of light-sensitive spots from simple photoreceptive cells.\n"
     ]
    }
   ],
   "source": [
    "# Reference summary: The first step in the evolution of the eye is thought to be the development of light-sensitive spots in simple organisms, allowing them to distinguish between light and darkness.\n",
    "# Reference score: 0.032\n",
    "\n",
    "custom_summary = \"The first step in the evolution of the eye is thought to be the development of light-sensitive spots in simple organisms, allowing them to distinguish between light and darkness.\"\n",
    "res = calc_kl_div(custom_summary, qa_manager_dirac, question_idx=3)"
   ]
  },
  {
   "cell_type": "code",
   "execution_count": 11,
   "id": "68d8fa9a-6212-42e3-9e60-b99b729f4dc8",
   "metadata": {},
   "outputs": [
    {
     "name": "stdout",
     "output_type": "stream",
     "text": [
      "Our metric scores your summary as 0.021 (lower = better).\n",
      "\n",
      "\n",
      "Here's your score broken down into the distance to each sample of the LLM distribution:\n",
      "\n",
      "Distance 0.002 for answer: The gallbladder is situated under the liver, in the upper right part of the abdomen.\n",
      "Distance 0.002 for answer: The gallbladder is situated under the liver, in the upper right part of the abdomen.\n",
      "Distance 0.002 for answer: The gallbladder is situated under the liver, on the right side of the abdomen.\n",
      "Distance 0.002 for answer: The gallbladder is situated in the upper right abdomen, under the liver.\n",
      "Distance 0.002 for answer: The gallbladder is situated under the liver, in the upper right quadrant of the abdomen.\n",
      "Distance 0.002 for answer: The gallbladder is situated under the liver, in the upper right part of the abdomen.\n",
      "Distance 0.002 for answer: The gallbladder is situated under the liver, in the upper right part of the abdomen.\n",
      "Distance 0.002 for answer: The gallbladder is situated under the liver, in the upper right part of the abdomen.\n",
      "Distance 0.002 for answer: The gallbladder is situated under the liver, in the upper right quadrant of the abdomen.\n",
      "Distance 0.002 for answer: The gallbladder is situated under the liver, in the upper right part of the abdomen.\n"
     ]
    }
   ],
   "source": [
    "# Reference summary: The gallbladder is situated under the liver in the upper right quadrant of the abdomen.\n",
    "# Reference score: 0.021\n",
    "\n",
    "custom_summary = \"The gallbladder is situated under the liver in the upper right quadrant of the abdomen.\"\n",
    "res = calc_kl_div(custom_summary, qa_manager_dirac, question_idx=4)"
   ]
  },
  {
   "cell_type": "markdown",
   "id": "f7312c80-8aaf-41a0-b07e-ad433a5583d5",
   "metadata": {},
   "source": [
    "## Questions where the model completely hallucinates (to test \"idk\" summaries)"
   ]
  },
  {
   "cell_type": "code",
   "execution_count": 12,
   "id": "a1146488-5633-45b5-96a2-e75642c3ccdf",
   "metadata": {},
   "outputs": [
    {
     "name": "stdout",
     "output_type": "stream",
     "text": [
      "Our metric scores your summary as 0.063 (lower = better).\n",
      "\n",
      "\n",
      "Here's your score broken down into the distance to each sample of the LLM distribution:\n",
      "\n",
      "Distance 0.003 for answer: Reading Football Club is owned by Fusion Football Holdings Ltd.\n",
      "Distance 0.009 for answer: The ownership of Reading Football Club changes occasionally. As of my last update, it's owned by Fusion Capital. For the most current information, you might want to check the latest sports news or theclub's official website.\n",
      "Distance 0.005 for answer: Reading Football Club is currently owned by Marcus Morris, a local businessman.\n",
      "Distance 0.011 for answer: The ownership of Reading Football Club has changed several times. As of 2023, it is owned by Simon Ploughman and Mark Palios.\n",
      "Distance 0.004 for answer: The owner of Reading Football Club is Dale George.\n",
      "Distance 0.008 for answer: The owner of Reading Football Club is Dr. Jane Bullock, part of the Johnson Matthey family.\n",
      "Distance 0.004 for answer: Reading Football Club is currently owned by Marcus Gilkes.\n",
      "Distance 0.008 for answer: The current owner of Reading Football Club is Lee Satterthwaite, part of the Satterthwaite family who purchased it in 2021.\n",
      "Distance 0.008 for answer: The owner of Reading Football Club is Jim King, as of the latest information available. However, ownership can change, so it's always good to verify the most current info from reliable sources.\n",
      "Distance 0.003 for answer: The owner of Reading Football Club is Marcus Gilbourne.\n"
     ]
    }
   ],
   "source": [
    "# Reference summary: The owner of Reading Football Club is not known to me.\n",
    "# Reference score: 0.063\n",
    "\n",
    "custom_summary = \"The owner of Reading Football Club is not known to me.\"\n",
    "res = calc_kl_div(custom_summary, qa_manager_uniform, question_idx=0)"
   ]
  },
  {
   "cell_type": "code",
   "execution_count": 13,
   "id": "4883d99d-bbf1-4b1f-b6e1-853ebf6d4c55",
   "metadata": {},
   "outputs": [
    {
     "name": "stdout",
     "output_type": "stream",
     "text": [
      "Our metric scores your summary as 0.048 (lower = better).\n",
      "\n",
      "\n",
      "Here's your score broken down into the distance to each sample of the LLM distribution:\n",
      "\n",
      "Distance 0.005 for answer: The phrase \"like a boss\" originated in the 1990s from hip-hop culture. It gained widespread popularity in the early 2000s, notably used by the character Newman on the TV show \"Parks and Recreation.\"\n",
      "Distance 0.004 for answer: The phrase \"like a boss\" gained popularity in the early 2000s from a sketch on the comedy show \"The Chris Knee Show.\" It's now commonly used to express confidence or satisfaction.\n",
      "Distance 0.005 for answer: The phrase \"like a boss\" originated in the 1990s in underground hip-hop. It became widely popular in the early 2000s, especially after it was used in a 2007episode of the TV show \"Arrested Development.\"\n",
      "Distance 0.005 for answer: The phrase \"like a boss\" gained popularity in the late 1990s and early 2000s, especially after appearing in a series of commercials for Old Navy. It was used to describe something done confidently or skillfully, often by someone asserting their authority or dominance in a playful or teasing way.\n",
      "Distance 0.005 for answer: The phrase \"like a boss\" became popular in the late 1990s and early 2000s, often used to describe doing something confidently or well. It gained widespread recognition through the song \"Like a Boss\" by Saliva in 2003 and was later popularized by reality TV shows.\n",
      "Distance 0.004 for answer: The phrase \"like a boss\" became popular in the early 2000s, originating from a GIF of a cat named Grumpy Cat. It's now used to describe doing something confidently or skillfully.\n",
      "Distance 0.006 for answer: The phrase \"like a boss\" became popular in the early 2000s, inspired by a character in a series of Nintendo games called \"Earthbound.\" A character named Mr. House often says \"like a boss,\" which was later used humorously in various contexts to express satisfaction or confidence.\n",
      "Distance 0.004 for answer: The phrase \"like a boss\" became popular in the 1990s, originating from the song \"Push It\" by Salt-N-Pepa. It gained widespread use in the early 2000s, often used to express confidence or asserting control.\n",
      "Distance 0.005 for answer: The phrase \"like a boss\" became popular in the late 1990s and early 2000s, starting as a sarcastic or ironic expression of confidence. It gained widespread recognition through the 1998 video game \"Grand Theft Auto 3,\" where characters use this phrase in a way that contrasts with their actual behavior.\n",
      "Distance 0.004 for answer: The phrase \"like a boss\" became popular in the early 2000s, likely originating from comedy and informal speech, particularly in hip-hop culture. It evolved into a common expression used to describe doing something well or impressively.\n"
     ]
    }
   ],
   "source": [
    "# Reference summary: The phrase \\\"like a boss\\\" gained popularity in the late 1990s and early 2000s, but I do not know where.\n",
    "# Reference score: 0.048\n",
    "\n",
    "custom_summary = \"The phrase \\\"like a boss\\\" gained popularity in the late 1990s and early 2000s, but I do not know where.\"\n",
    "res = calc_kl_div(custom_summary, qa_manager_uniform, question_idx=1)"
   ]
  },
  {
   "cell_type": "code",
   "execution_count": 14,
   "id": "63e01c85-c130-4399-bf00-ebe5b11bdac2",
   "metadata": {},
   "outputs": [
    {
     "name": "stdout",
     "output_type": "stream",
     "text": [
      "Our metric scores your summary as 0.078 (lower = better).\n",
      "\n",
      "\n",
      "Here's your score broken down into the distance to each sample of the LLM distribution:\n",
      "\n",
      "Distance 0.010 for answer: The first Lady Member of Rajya Sabha nominated under Article 80(f) was Sucheta Kripalani in 1974.\n",
      "Distance 0.006 for answer: The first lady to be nominated as a Member of the Rajya Sabha was Sushma Swaraj, in 1995.\n",
      "Distance 0.007 for answer: The first lady nominated member of the Rajya Sabha was Sarojini Naidu, in 1952.\n",
      "Distance 0.010 for answer: The first Lady Member of Rajya Sabha nominated from theScheduled Castes category was Urmila Deshmukh in 1978.\n",
      "Distance 0.006 for answer: The first Lady Governor to be nominated to Rajya Sabha was Mrs. Sarojini Naidu in 1952.\n",
      "Distance 0.007 for answer: The first lady nominated member of Rajya Sabha was Raj Kumari Ambrani, who was nominated in 1952.\n",
      "Distance 0.007 for answer: The first lady to be nominated as a member of the Rajya Sabha was V. N. Savithri in 1986.\n",
      "Distance 0.008 for answer: The first lady nominated member of the Rajya Sabha was Sucheta Kriplani in 1952.\n",
      "Distance 0.008 for answer: The first Lady Member of Rajya Sabha by nomination was Usha Hegde, who was nominated in 1978.\n",
      "Distance 0.010 for answer: The first Lady Member of Rajya Sabha nominated specifically as a Women's Reservation quota was Dr. Vijaylakshmi Pandit in 1986.\n"
     ]
    }
   ],
   "source": [
    "# Reference summary: The first lady to be nominated as a Member of the Rajya Sabha is unknown to me.\n",
    "# Reference score: 0.078\n",
    "\n",
    "custom_summary = \"The first lady to be nominated as a Member of the Rajya Sabha is unknown to me.\"\n",
    "res = calc_kl_div(custom_summary, qa_manager_uniform, question_idx=2)"
   ]
  },
  {
   "cell_type": "code",
   "execution_count": 15,
   "id": "dd8ac73a-b62b-46c3-bd24-4440624b5017",
   "metadata": {},
   "outputs": [
    {
     "name": "stdout",
     "output_type": "stream",
     "text": [
      "Our metric scores your summary as 0.084 (lower = better).\n",
      "\n",
      "\n",
      "Here's your score broken down into the distance to each sample of the LLM distribution:\n",
      "\n",
      "Distance 0.008 for answer: The national anthem of Pakistan, \"Karachori Teri Baaghian,\" has 39 words.\n",
      "Distance 0.013 for answer: The national anthem of Pakistan, \"Qaumi Tulen,\" has 24 lines, with each line generally considered as one phrase or part, though the exact word count can vary slightly depending on the specific translation or version used.\n",
      "Distance 0.008 for answer: The national anthem of Pakistan, \"Qaumi Tarana,\" has 21 lines, with each line containing 10 words.\n",
      "Distance 0.010 for answer: The national anthem of Pakistan, \"Qaumi Taranah,\" has 13 lines, but if you're asking for the total number of words, it contains 52 words.\n",
      "Distance 0.009 for answer: The national anthem of Pakistan, \"Qaumi Tarana,\" has 20 lines, but if we count each word individually, it contains 121 words.\n",
      "Distance 0.012 for answer: The national anthem of Pakistan, \"Qaumi Taranah,\" has 13 lines, though the exact number of words can vary slightly depending on interpretation. Typically, it is considered to have about 40 words.\n",
      "Distance 0.008 for answer: The national anthem of Pakistan, \"Qaumiyat,\" has 32 words.\n",
      "Distance 0.003 for answer: The national anthem of Pakistan consists of 56 words.\n",
      "Distance 0.010 for answer: The national anthem of Pakistan, \"Qānūn-e Shahadat,\" has 32 words.\n",
      "Distance 0.003 for answer: The national anthem of Pakistan consists of 54 words.\n"
     ]
    }
   ],
   "source": [
    "# Reference summary: I do not know how many words the national anthem of Pakistan contains.\n",
    "# Reference score: 0.084\n",
    "\n",
    "custom_summary = \"I do not know how many words the national anthem of Pakistan contains.\"\n",
    "res = calc_kl_div(custom_summary, qa_manager_uniform, question_idx=3)"
   ]
  },
  {
   "cell_type": "code",
   "execution_count": 16,
   "id": "b8652268-2907-4490-8503-1024943b8d85",
   "metadata": {},
   "outputs": [
    {
     "name": "stdout",
     "output_type": "stream",
     "text": [
      "Our metric scores your summary as 0.064 (lower = better).\n",
      "\n",
      "\n",
      "Here's your score broken down into the distance to each sample of the LLM distribution:\n",
      "\n",
      "Distance 0.008 for answer: \"Landslide\" is often referred to as \"Last of a Dying Breed,\" released in 1977.\n",
      "Distance 0.006 for answer: Lynyrd Skynyrd's \"Last of a Dying Breed\" was released in 1987.\n",
      "Distance 0.008 for answer: \"Lynyrd Skynyrd: The Last of a Dying Breed\" is a live album released in 1992 featuring performances from their reunion tours.\n",
      "Distance 0.008 for answer: Lynyrd Skynyrd's \"Last of a Dying Breed\" is from their 2013 album \"The Last of a Dying Breed.\"\n",
      "Distance 0.006 for answer: Lynyrd Skynyrd's \"Last of a Dying Breed\" was released in 2014.\n",
      "Distance 0.006 for answer: Lynyrd Skynyrd's \"Last of a Dying Breed\" was released in 2014.\n",
      "Distance 0.006 for answer: Lynyrd Skynyrd's \"Last of a Dying Breed\" was released in 1991.\n",
      "Distance 0.006 for answer: Lynyrd Skynyrd's \"Last of a Dying Breed\" was released in 1977.\n",
      "Distance 0.005 for answer: \"Lynyrd Skynyrd Last of a Dying Breed\" was released in 1987.\n",
      "Distance 0.006 for answer: \"Lynyrd Skynyrd: The Last of a Dying Breed\" was released in 1992 as a compilation album.\n"
     ]
    }
   ],
   "source": [
    "# Reference summary: I do not know when Lynyrd Skynyrd\\'s \\\"Last of a Dying Breed\\\" was released.\n",
    "# Reference score: 0.064\n",
    "\n",
    "custom_summary = \"I do not know when Lynyrd Skynyrd\\'s \\\"Last of a Dying Breed\\\" was released.\"\n",
    "res = calc_kl_div(custom_summary, qa_manager_uniform, question_idx=4)"
   ]
  },
  {
   "cell_type": "code",
   "execution_count": null,
   "id": "6661f79b-c3f4-4f60-9e5d-fb97a391da17",
   "metadata": {},
   "outputs": [],
   "source": []
  }
 ],
 "metadata": {
  "kernelspec": {
   "display_name": "Python 3 (ipykernel)",
   "language": "python",
   "name": "python3"
  },
  "language_info": {
   "codemirror_mode": {
    "name": "ipython",
    "version": 3
   },
   "file_extension": ".py",
   "mimetype": "text/x-python",
   "name": "python",
   "nbconvert_exporter": "python",
   "pygments_lexer": "ipython3",
   "version": "3.12.5"
  }
 },
 "nbformat": 4,
 "nbformat_minor": 5
}
